{
 "cells": [
  {
   "cell_type": "code",
   "execution_count": 1,
   "metadata": {},
   "outputs": [],
   "source": [
    "import sys\n",
    "sys.path.append('../src')"
   ]
  },
  {
   "cell_type": "code",
   "execution_count": 2,
   "metadata": {},
   "outputs": [],
   "source": [
    "from data_loading import *\n",
    "import matplotlib.pyplot as plt\n",
    "import numpy as np"
   ]
  },
  {
   "cell_type": "markdown",
   "metadata": {},
   "source": [
    "## Number of accidents per years"
   ]
  },
  {
   "cell_type": "code",
   "execution_count": 3,
   "metadata": {},
   "outputs": [
    {
     "name": "stderr",
     "output_type": "stream",
     "text": [
      "/Users/sinitame/anaconda3/lib/python3.7/site-packages/IPython/core/interactiveshell.py:3249: DtypeWarning: Columns (2) have mixed types. Specify dtype option on import or set low_memory=False.\n",
      "  if (await self.run_code(code, result,  async_=asy)):\n"
     ]
    }
   ],
   "source": [
    "year = 2018\n",
    "data_2018 = YearLoader(year)"
   ]
  },
  {
   "cell_type": "code",
   "execution_count": 4,
   "metadata": {},
   "outputs": [],
   "source": [
    "df_2018_caracteristics = data_2018.get_dataframe(\"characteristics\")"
   ]
  },
  {
   "cell_type": "code",
   "execution_count": 5,
   "metadata": {},
   "outputs": [
    {
     "data": {
      "text/html": [
       "<div>\n",
       "<style scoped>\n",
       "    .dataframe tbody tr th:only-of-type {\n",
       "        vertical-align: middle;\n",
       "    }\n",
       "\n",
       "    .dataframe tbody tr th {\n",
       "        vertical-align: top;\n",
       "    }\n",
       "\n",
       "    .dataframe thead th {\n",
       "        text-align: right;\n",
       "    }\n",
       "</style>\n",
       "<table border=\"1\" class=\"dataframe\">\n",
       "  <thead>\n",
       "    <tr style=\"text-align: right;\">\n",
       "      <th></th>\n",
       "      <th>Num_Acc</th>\n",
       "      <th>an</th>\n",
       "      <th>mois</th>\n",
       "      <th>jour</th>\n",
       "      <th>hrmn</th>\n",
       "      <th>lum</th>\n",
       "      <th>agg</th>\n",
       "      <th>int</th>\n",
       "      <th>atm</th>\n",
       "      <th>col</th>\n",
       "      <th>com</th>\n",
       "      <th>adr</th>\n",
       "      <th>gps</th>\n",
       "      <th>lat</th>\n",
       "      <th>long</th>\n",
       "      <th>dep</th>\n",
       "    </tr>\n",
       "  </thead>\n",
       "  <tbody>\n",
       "    <tr>\n",
       "      <td>0</td>\n",
       "      <td>201800000001</td>\n",
       "      <td>18</td>\n",
       "      <td>1</td>\n",
       "      <td>24</td>\n",
       "      <td>1505</td>\n",
       "      <td>1</td>\n",
       "      <td>1</td>\n",
       "      <td>4</td>\n",
       "      <td>1.0</td>\n",
       "      <td>1.0</td>\n",
       "      <td>5</td>\n",
       "      <td>route des Ansereuilles</td>\n",
       "      <td>M</td>\n",
       "      <td>5055737.0</td>\n",
       "      <td>294992.0</td>\n",
       "      <td>590</td>\n",
       "    </tr>\n",
       "    <tr>\n",
       "      <td>1</td>\n",
       "      <td>201800000002</td>\n",
       "      <td>18</td>\n",
       "      <td>2</td>\n",
       "      <td>12</td>\n",
       "      <td>1015</td>\n",
       "      <td>1</td>\n",
       "      <td>2</td>\n",
       "      <td>7</td>\n",
       "      <td>7.0</td>\n",
       "      <td>7.0</td>\n",
       "      <td>11</td>\n",
       "      <td>Place du général de Gaul</td>\n",
       "      <td>M</td>\n",
       "      <td>5052936.0</td>\n",
       "      <td>293151.0</td>\n",
       "      <td>590</td>\n",
       "    </tr>\n",
       "    <tr>\n",
       "      <td>2</td>\n",
       "      <td>201800000003</td>\n",
       "      <td>18</td>\n",
       "      <td>3</td>\n",
       "      <td>4</td>\n",
       "      <td>1135</td>\n",
       "      <td>1</td>\n",
       "      <td>2</td>\n",
       "      <td>3</td>\n",
       "      <td>1.0</td>\n",
       "      <td>7.0</td>\n",
       "      <td>477</td>\n",
       "      <td>Rue  nationale</td>\n",
       "      <td>M</td>\n",
       "      <td>5051243.0</td>\n",
       "      <td>291714.0</td>\n",
       "      <td>590</td>\n",
       "    </tr>\n",
       "    <tr>\n",
       "      <td>3</td>\n",
       "      <td>201800000004</td>\n",
       "      <td>18</td>\n",
       "      <td>5</td>\n",
       "      <td>5</td>\n",
       "      <td>1735</td>\n",
       "      <td>1</td>\n",
       "      <td>2</td>\n",
       "      <td>1</td>\n",
       "      <td>7.0</td>\n",
       "      <td>3.0</td>\n",
       "      <td>52</td>\n",
       "      <td>30 rue Jules Guesde</td>\n",
       "      <td>M</td>\n",
       "      <td>5051974.0</td>\n",
       "      <td>289123.0</td>\n",
       "      <td>590</td>\n",
       "    </tr>\n",
       "    <tr>\n",
       "      <td>4</td>\n",
       "      <td>201800000005</td>\n",
       "      <td>18</td>\n",
       "      <td>6</td>\n",
       "      <td>26</td>\n",
       "      <td>1605</td>\n",
       "      <td>1</td>\n",
       "      <td>2</td>\n",
       "      <td>1</td>\n",
       "      <td>1.0</td>\n",
       "      <td>3.0</td>\n",
       "      <td>477</td>\n",
       "      <td>72 rue Victor Hugo</td>\n",
       "      <td>M</td>\n",
       "      <td>5051607.0</td>\n",
       "      <td>290605.0</td>\n",
       "      <td>590</td>\n",
       "    </tr>\n",
       "  </tbody>\n",
       "</table>\n",
       "</div>"
      ],
      "text/plain": [
       "        Num_Acc  an  mois  jour  hrmn  lum  agg  int  atm  col  com  \\\n",
       "0  201800000001  18     1    24  1505    1    1    4  1.0  1.0    5   \n",
       "1  201800000002  18     2    12  1015    1    2    7  7.0  7.0   11   \n",
       "2  201800000003  18     3     4  1135    1    2    3  1.0  7.0  477   \n",
       "3  201800000004  18     5     5  1735    1    2    1  7.0  3.0   52   \n",
       "4  201800000005  18     6    26  1605    1    2    1  1.0  3.0  477   \n",
       "\n",
       "                        adr gps        lat      long  dep  \n",
       "0    route des Ansereuilles   M  5055737.0  294992.0  590  \n",
       "1  Place du général de Gaul   M  5052936.0  293151.0  590  \n",
       "2            Rue  nationale   M  5051243.0  291714.0  590  \n",
       "3       30 rue Jules Guesde   M  5051974.0  289123.0  590  \n",
       "4        72 rue Victor Hugo   M  5051607.0  290605.0  590  "
      ]
     },
     "execution_count": 5,
     "metadata": {},
     "output_type": "execute_result"
    }
   ],
   "source": [
    "df_2018_caracteristics.head()"
   ]
  },
  {
   "cell_type": "code",
   "execution_count": 6,
   "metadata": {},
   "outputs": [],
   "source": [
    "all_accident_ids = df_2018_caracteristics[\"Num_Acc\"].unique()"
   ]
  },
  {
   "cell_type": "code",
   "execution_count": 7,
   "metadata": {},
   "outputs": [
    {
     "name": "stdout",
     "output_type": "stream",
     "text": [
      "Number of accidents in 2018: 57783\n"
     ]
    }
   ],
   "source": [
    "print(\"Number of accidents in {}: {}\".format(year, len(all_accident_ids)))"
   ]
  },
  {
   "cell_type": "code",
   "execution_count": 8,
   "metadata": {},
   "outputs": [],
   "source": [
    "def get_number_accidents_per_years(min_year, max_year):\n",
    "    \"\"\"\n",
    "    Function that get the number of accidents per year from\n",
    "    min_year to max_year.\n",
    "    \n",
    "    Parameters\n",
    "    ----------\n",
    "    min_year : int\n",
    "        First year to consider\n",
    "    max_year : int\n",
    "        Last year to consider\n",
    "    \n",
    "    Returns\n",
    "    -------\n",
    "    DataFrame\n",
    "        DataFrame containing the result\n",
    "    \n",
    "    \"\"\"\n",
    "    accidents_per_years = {}\n",
    "    for year in range(min_year, max_year+1):\n",
    "        data_year = YearLoader(year)\n",
    "        df_year_caracteristics = data_year.get_dataframe(\"characteristics\")\n",
    "        all_accident_ids = df_year_caracteristics[\"Num_Acc\"].unique()\n",
    "        num_accidents = len(all_accident_ids)\n",
    "        accidents_per_years[str(year)] = num_accidents\n",
    "        \n",
    "    df_accidents_per_years = pd.Series(accidents_per_years)\n",
    "    return df_accidents_per_years      "
   ]
  },
  {
   "cell_type": "code",
   "execution_count": 9,
   "metadata": {},
   "outputs": [
    {
     "name": "stderr",
     "output_type": "stream",
     "text": [
      "/Users/sinitame/anaconda3/lib/python3.7/site-packages/IPython/core/interactiveshell.py:3326: DtypeWarning: Columns (2) have mixed types. Specify dtype option on import or set low_memory=False.\n",
      "  exec(code_obj, self.user_global_ns, self.user_ns)\n"
     ]
    }
   ],
   "source": [
    "df_accidents_per_year = get_number_accidents_per_years(2008, 2018)"
   ]
  },
  {
   "cell_type": "code",
   "execution_count": 10,
   "metadata": {},
   "outputs": [
    {
     "data": {
      "text/plain": [
       "2008    76767\n",
       "2009    74409\n",
       "2010    69379\n",
       "2011    66974\n",
       "2012    62250\n",
       "dtype: int64"
      ]
     },
     "execution_count": 10,
     "metadata": {},
     "output_type": "execute_result"
    }
   ],
   "source": [
    "df_accidents_per_year.head()"
   ]
  },
  {
   "cell_type": "code",
   "execution_count": 11,
   "metadata": {},
   "outputs": [],
   "source": [
    "def plot_number_accidents_per_years(df_accidents_per_year):\n",
    "    plt.figure(figsize=(20,10))\n",
    "    df_accidents_per_year.plot(kind='bar')\n",
    "    plt.show()"
   ]
  },
  {
   "cell_type": "code",
   "execution_count": 12,
   "metadata": {},
   "outputs": [
    {
     "data": {
      "image/png": "[encoded data removed]",
      "text/plain": [
       "<Figure size 1440x720 with 1 Axes>"
      ]
     },
     "metadata": {
      "needs_background": "light"
     },
     "output_type": "display_data"
    }
   ],
   "source": [
    "plot_number_accidents_per_years(df_accidents_per_year)"
   ]
  },
  {
   "cell_type": "markdown",
   "metadata": {},
   "source": [
    "## Number of accidents per months"
   ]
  },
  {
   "cell_type": "code",
   "execution_count": 13,
   "metadata": {},
   "outputs": [],
   "source": [
    "def get_number_accidents_per_months(data_year):\n",
    "    \"\"\"\n",
    "    Function that get the number of accidents per months for a year\n",
    "    \n",
    "    Parameters\n",
    "    ----------\n",
    "    data_year : YearLoader\n",
    "        Data from the year\n",
    "    \n",
    "    Returns\n",
    "    -------\n",
    "    DataFrame\n",
    "        DataFrame containing the result\n",
    "    \n",
    "    \"\"\"\n",
    "    accidents_per_months = {}\n",
    "    months = [\"Jan\", \"Feb\", \"Mar\", \"Apr\", \"May\", \"June\", \"July\", \"Aug\", \"Sept\", \"Oct\", \"Nov\", \"Dec\"]\n",
    "    df_year_caracteristics = data_year.get_dataframe(\"characteristics\")\n",
    "    \n",
    "    for i, month in enumerate(months):\n",
    "        df_month_caracteristics = df_year_caracteristics[df_year_caracteristics[\"mois\"] == i+1]\n",
    "        all_months_accident_ids = df_month_caracteristics[\"Num_Acc\"].unique()\n",
    "        num_accidents_in_month = len(all_months_accident_ids)\n",
    "        accidents_per_months[month] = num_accidents_in_month\n",
    "\n",
    "    df_accidents_per_months = pd.Series(accidents_per_months)\n",
    "    \n",
    "    return df_accidents_per_months"
   ]
  },
  {
   "cell_type": "code",
   "execution_count": 14,
   "metadata": {},
   "outputs": [],
   "source": [
    "def plot_number_accidents_per_months(df_accidents_per_months):\n",
    "    plt.figure(figsize=(20,10))\n",
    "    df_accidents_per_months.plot(kind='bar')\n",
    "    plt.show()"
   ]
  },
  {
   "cell_type": "code",
   "execution_count": 15,
   "metadata": {},
   "outputs": [],
   "source": [
    "df_accidents_per_months_2018 = get_number_accidents_per_months(data_2018)"
   ]
  },
  {
   "cell_type": "code",
   "execution_count": 16,
   "metadata": {},
   "outputs": [
    {
     "data": {
      "text/plain": [
       "Jan    4350\n",
       "Feb    3458\n",
       "Mar    4152\n",
       "Apr    4833\n",
       "May    5055\n",
       "dtype: int64"
      ]
     },
     "execution_count": 16,
     "metadata": {},
     "output_type": "execute_result"
    }
   ],
   "source": [
    "df_accidents_per_months_2018.head()"
   ]
  },
  {
   "cell_type": "code",
   "execution_count": 17,
   "metadata": {},
   "outputs": [
    {
     "data": {
      "image/png": "[encoded data removed]",
      "text/plain": [
       "<Figure size 1440x720 with 1 Axes>"
      ]
     },
     "metadata": {
      "needs_background": "light"
     },
     "output_type": "display_data"
    }
   ],
   "source": [
    "plot_number_accidents_per_months(df_accidents_per_months_2018)"
   ]
  },
  {
   "cell_type": "markdown",
   "metadata": {},
   "source": [
    "## Number of accidents per months for all years"
   ]
  },
  {
   "cell_type": "code",
   "execution_count": 18,
   "metadata": {},
   "outputs": [],
   "source": [
    "def get_number_accidents_per_months_all_years(min_year, max_year):\n",
    "    \"\"\"\n",
    "    Function that get the number of accidents per months from\n",
    "    min_year to max_year.\n",
    "    \n",
    "    Parameters\n",
    "    ----------\n",
    "    min_year : int\n",
    "        First year to consider\n",
    "    max_year : int\n",
    "        Last year to consider\n",
    "    \n",
    "    Returns\n",
    "    -------\n",
    "    DataFrame\n",
    "        DataFrame containing the result\n",
    "    \n",
    "    \"\"\"\n",
    "    all_years_accidents_per_months = {}\n",
    "    for year in range(min_year, max_year+1):\n",
    "        data_year = YearLoader(year)\n",
    "        accidents_per_months = get_number_accidents_per_months(data_year)\n",
    "        all_years_accidents_per_months[str(year)] = accidents_per_months\n",
    "    \n",
    "    df_all_years_accidents_per_months = pd.DataFrame(all_years_accidents_per_months)\n",
    "    return df_all_years_accidents_per_months"
   ]
  },
  {
   "cell_type": "code",
   "execution_count": 19,
   "metadata": {},
   "outputs": [
    {
     "name": "stderr",
     "output_type": "stream",
     "text": [
      "/Users/sinitame/anaconda3/lib/python3.7/site-packages/IPython/core/interactiveshell.py:3326: DtypeWarning: Columns (2) have mixed types. Specify dtype option on import or set low_memory=False.\n",
      "  exec(code_obj, self.user_global_ns, self.user_ns)\n"
     ]
    }
   ],
   "source": [
    "df_all_accidents_per_months = get_number_accidents_per_months_all_years(2008, 2018)"
   ]
  },
  {
   "cell_type": "code",
   "execution_count": 20,
   "metadata": {},
   "outputs": [
    {
     "data": {
      "text/html": [
       "<div>\n",
       "<style scoped>\n",
       "    .dataframe tbody tr th:only-of-type {\n",
       "        vertical-align: middle;\n",
       "    }\n",
       "\n",
       "    .dataframe tbody tr th {\n",
       "        vertical-align: top;\n",
       "    }\n",
       "\n",
       "    .dataframe thead th {\n",
       "        text-align: right;\n",
       "    }\n",
       "</style>\n",
       "<table border=\"1\" class=\"dataframe\">\n",
       "  <thead>\n",
       "    <tr style=\"text-align: right;\">\n",
       "      <th></th>\n",
       "      <th>2008</th>\n",
       "      <th>2009</th>\n",
       "      <th>2010</th>\n",
       "      <th>2011</th>\n",
       "      <th>2012</th>\n",
       "      <th>2013</th>\n",
       "      <th>2014</th>\n",
       "      <th>2015</th>\n",
       "      <th>2016</th>\n",
       "      <th>2017</th>\n",
       "      <th>2018</th>\n",
       "    </tr>\n",
       "  </thead>\n",
       "  <tbody>\n",
       "    <tr>\n",
       "      <td>Jan</td>\n",
       "      <td>6151</td>\n",
       "      <td>5395</td>\n",
       "      <td>4711</td>\n",
       "      <td>5062</td>\n",
       "      <td>5057</td>\n",
       "      <td>4396</td>\n",
       "      <td>4783</td>\n",
       "      <td>4437</td>\n",
       "      <td>4802</td>\n",
       "      <td>4589</td>\n",
       "      <td>4350</td>\n",
       "    </tr>\n",
       "    <tr>\n",
       "      <td>Feb</td>\n",
       "      <td>5842</td>\n",
       "      <td>4824</td>\n",
       "      <td>4467</td>\n",
       "      <td>4518</td>\n",
       "      <td>3983</td>\n",
       "      <td>3891</td>\n",
       "      <td>4224</td>\n",
       "      <td>3900</td>\n",
       "      <td>4101</td>\n",
       "      <td>4088</td>\n",
       "      <td>3458</td>\n",
       "    </tr>\n",
       "    <tr>\n",
       "      <td>Mar</td>\n",
       "      <td>6049</td>\n",
       "      <td>5885</td>\n",
       "      <td>5503</td>\n",
       "      <td>5520</td>\n",
       "      <td>5201</td>\n",
       "      <td>4045</td>\n",
       "      <td>4773</td>\n",
       "      <td>4453</td>\n",
       "      <td>4599</td>\n",
       "      <td>5100</td>\n",
       "      <td>4152</td>\n",
       "    </tr>\n",
       "    <tr>\n",
       "      <td>Apr</td>\n",
       "      <td>5927</td>\n",
       "      <td>6119</td>\n",
       "      <td>6019</td>\n",
       "      <td>5892</td>\n",
       "      <td>4572</td>\n",
       "      <td>4553</td>\n",
       "      <td>4967</td>\n",
       "      <td>4829</td>\n",
       "      <td>4430</td>\n",
       "      <td>5112</td>\n",
       "      <td>4833</td>\n",
       "    </tr>\n",
       "    <tr>\n",
       "      <td>May</td>\n",
       "      <td>6517</td>\n",
       "      <td>6638</td>\n",
       "      <td>6087</td>\n",
       "      <td>6282</td>\n",
       "      <td>5340</td>\n",
       "      <td>4633</td>\n",
       "      <td>5113</td>\n",
       "      <td>4917</td>\n",
       "      <td>5139</td>\n",
       "      <td>5266</td>\n",
       "      <td>5055</td>\n",
       "    </tr>\n",
       "  </tbody>\n",
       "</table>\n",
       "</div>"
      ],
      "text/plain": [
       "     2008  2009  2010  2011  2012  2013  2014  2015  2016  2017  2018\n",
       "Jan  6151  5395  4711  5062  5057  4396  4783  4437  4802  4589  4350\n",
       "Feb  5842  4824  4467  4518  3983  3891  4224  3900  4101  4088  3458\n",
       "Mar  6049  5885  5503  5520  5201  4045  4773  4453  4599  5100  4152\n",
       "Apr  5927  6119  6019  5892  4572  4553  4967  4829  4430  5112  4833\n",
       "May  6517  6638  6087  6282  5340  4633  5113  4917  5139  5266  5055"
      ]
     },
     "execution_count": 20,
     "metadata": {},
     "output_type": "execute_result"
    }
   ],
   "source": [
    "df_all_accidents_per_months.head()"
   ]
  },
  {
   "cell_type": "code",
   "execution_count": 21,
   "metadata": {},
   "outputs": [],
   "source": [
    "def plot_all_years_accidents_per_months(all_accidents_per_months):\n",
    "    width = 0.05 \n",
    "    months = [\"Jan\", \"Feb\", \"Mar\", \"Apr\", \"May\", \"June\", \"July\", \"Aug\", \"Sept\", \"Oct\", \"Nov\", \"Dec\"]\n",
    "    ind = np.arange(12)\n",
    "\n",
    "    all_accidents_per_months.plot(kind='bar', figsize=(20,10))\n",
    "\n",
    "    plt.ylabel('Number of accidents')\n",
    "    plt.title('Number of accidents per months between 2008 and 2018')\n",
    "\n",
    "    plt.xticks(ind, months)\n",
    "    plt.legend(loc='best')\n",
    "    plt.show()"
   ]
  },
  {
   "cell_type": "code",
   "execution_count": 22,
   "metadata": {},
   "outputs": [
    {
     "data": {
      "image/png": "[encoded data removed]",
      "text/plain": [
       "<Figure size 1440x720 with 1 Axes>"
      ]
     },
     "metadata": {
      "needs_background": "light"
     },
     "output_type": "display_data"
    }
   ],
   "source": [
    "plot_all_years_accidents_per_months(df_all_accidents_per_months)"
   ]
  },
  {
   "cell_type": "markdown",
   "metadata": {},
   "source": [
    "## Gravity of accidents"
   ]
  },
  {
   "cell_type": "code",
   "execution_count": 23,
   "metadata": {},
   "outputs": [],
   "source": [
    "def get_accidents_gravity(data_year):\n",
    "    \"\"\"\n",
    "    Function that get the statistics of the gravity of accidents in a year.\n",
    "    \n",
    "    Parameters\n",
    "    ----------\n",
    "    data_year : YearLoader\n",
    "        Data from the year\n",
    "    \n",
    "    Returns\n",
    "    -------\n",
    "    DataFrame\n",
    "        DataFrame containing the result\n",
    "    \n",
    "    \"\"\"\n",
    "    gravity_mapping = [\"Unscathed\", \"Dead\", \"Injured\", \"Slight injured\" ]\n",
    "\n",
    "    df_year_caracteristics = data_year.get_dataframe(\"passengers\")\n",
    "    df_accidents_gravity = df_year_caracteristics.groupby(\"grav\")[\"grav\"].count()\n",
    "    \n",
    "    return df_accidents_gravity  "
   ]
  },
  {
   "cell_type": "code",
   "execution_count": 24,
   "metadata": {},
   "outputs": [],
   "source": [
    "def plot_accidents_gravity(df_accidents_gravity):\n",
    "    gravity_mapping = [\"Unscathed\", \"Dead\", \"Injured\", \"Slight injured\" ]\n",
    "    ind = [i for i in range(4)]\n",
    "    \n",
    "    df_accidents_gravity.plot(kind='bar', figsize=(20,10))\n",
    "    plt.xticks(ind, gravity_mapping, rotation=45)\n",
    "    plt.show()"
   ]
  },
  {
   "cell_type": "code",
   "execution_count": 25,
   "metadata": {},
   "outputs": [],
   "source": [
    "df_accidents_gravity = get_accidents_gravity(data_2018)"
   ]
  },
  {
   "cell_type": "code",
   "execution_count": 26,
   "metadata": {},
   "outputs": [
    {
     "data": {
      "text/plain": [
       "grav\n",
       "1    54248\n",
       "2     3392\n",
       "3    22169\n",
       "4    50360\n",
       "Name: grav, dtype: int64"
      ]
     },
     "execution_count": 26,
     "metadata": {},
     "output_type": "execute_result"
    }
   ],
   "source": [
    "df_accidents_gravity"
   ]
  },
  {
   "cell_type": "code",
   "execution_count": 27,
   "metadata": {},
   "outputs": [
    {
     "data": {
      "image/png": "[encoded data removed]",
      "text/plain": [
       "<Figure size 1440x720 with 1 Axes>"
      ]
     },
     "metadata": {
      "needs_background": "light"
     },
     "output_type": "display_data"
    }
   ],
   "source": [
    "plot_accidents_gravity(df_accidents_gravity)"
   ]
  },
  {
   "cell_type": "markdown",
   "metadata": {},
   "source": [
    "## Envolution of accidents gravity over years"
   ]
  },
  {
   "cell_type": "code",
   "execution_count": 28,
   "metadata": {},
   "outputs": [],
   "source": [
    "def get_accidents_gravity_all_years(min_year, max_year):\n",
    "    \"\"\"\n",
    "    Function that get the statistics of the gravity of accidents\n",
    "    between min_year and max_year.\n",
    "    \n",
    "    Parameters\n",
    "    ----------\n",
    "    min_year : int\n",
    "        First year to consider\n",
    "    max_year : int\n",
    "        Last year to consider\n",
    "    \n",
    "    Returns\n",
    "    -------\n",
    "    DataFrame\n",
    "        DataFrame containing the result\n",
    "    \n",
    "    \"\"\"\n",
    "    all_years_accidents_gravity = {}\n",
    "    for year in range(min_year, max_year+1):\n",
    "        data_year = YearLoader(year)\n",
    "        df_accidents_gravity = get_accidents_gravity(data_year)\n",
    "        all_years_accidents_gravity[str(year)] = df_accidents_gravity\n",
    "    \n",
    "    df_all_years_accidents_gravity = pd.DataFrame(all_years_accidents_gravity)\n",
    "    return df_all_years_accidents_gravity"
   ]
  },
  {
   "cell_type": "code",
   "execution_count": 29,
   "metadata": {},
   "outputs": [],
   "source": [
    "df_all_years_accidents_gravity = get_accidents_gravity_all_years(2008, 2018)"
   ]
  },
  {
   "cell_type": "code",
   "execution_count": 30,
   "metadata": {},
   "outputs": [],
   "source": [
    "def plot_all_years_accidents_gravity(all_years_accidents_gravity):\n",
    "    width = 0.05 \n",
    "    gravity_mapping = [\"Unscathed\", \"Dead\", \"Injured\", \"Slightly injured\" ]\n",
    "    ind = np.arange(4)\n",
    "\n",
    "    all_years_accidents_gravity.plot(kind='bar', figsize=(20,10))\n",
    "\n",
    "    plt.ylabel('Number of accidents')\n",
    "    plt.xlabel('Gravity of accidents')\n",
    "    plt.title('Gravity of accidents between 2008 and 2018')\n",
    "\n",
    "    plt.xticks(ind, gravity_mapping, rotation=45)\n",
    "    plt.legend(loc='best')\n",
    "    plt.show()"
   ]
  },
  {
   "cell_type": "code",
   "execution_count": 31,
   "metadata": {},
   "outputs": [
    {
     "data": {
      "image/png": "[encoded data removed]",
      "text/plain": [
       "<Figure size 1440x720 with 1 Axes>"
      ]
     },
     "metadata": {
      "needs_background": "light"
     },
     "output_type": "display_data"
    }
   ],
   "source": [
    "plot_all_years_accidents_gravity(df_all_years_accidents_gravity)"
   ]
  },
  {
   "cell_type": "markdown",
   "metadata": {},
   "source": [
    "## Number of people involved in an accident"
   ]
  },
  {
   "cell_type": "code",
   "execution_count": 32,
   "metadata": {},
   "outputs": [],
   "source": [
    "def get_number_people_per_accidents(data_year):\n",
    "    \"\"\"\n",
    "    Function that get the of the number of people\n",
    "    involved per accidents in a year.\n",
    "    \n",
    "    Parameters\n",
    "    ----------\n",
    "    data_year : YearLoader\n",
    "        Data from the year\n",
    "    \n",
    "    Returns\n",
    "    -------\n",
    "    DataFrame\n",
    "        DataFrame containing the result\n",
    "    \n",
    "    \"\"\"\n",
    "    \n",
    "    df_year_caracteristics = data_year.get_dataframe(\"passengers\")\n",
    "    df_people_per_accidents = df_year_caracteristics.groupby(\"Num_Acc\")[\"Num_Acc\"].count()\n",
    "    \n",
    "    return df_people_per_accidents\n",
    "    "
   ]
  },
  {
   "cell_type": "code",
   "execution_count": 33,
   "metadata": {},
   "outputs": [],
   "source": [
    "df_people_per_accidents_2018 = get_number_people_per_accidents(data_2018)"
   ]
  },
  {
   "cell_type": "code",
   "execution_count": 34,
   "metadata": {},
   "outputs": [
    {
     "data": {
      "text/plain": [
       "count    57783.000000\n",
       "mean         2.252721\n",
       "std          1.265973\n",
       "min          1.000000\n",
       "25%          2.000000\n",
       "50%          2.000000\n",
       "75%          3.000000\n",
       "max         51.000000\n",
       "Name: Num_Acc, dtype: float64"
      ]
     },
     "execution_count": 34,
     "metadata": {},
     "output_type": "execute_result"
    }
   ],
   "source": [
    "df_people_per_accidents_2018.describe()"
   ]
  },
  {
   "cell_type": "code",
   "execution_count": 35,
   "metadata": {},
   "outputs": [],
   "source": [
    "def plot_number_people_per_accidents(people_per_accidents, multiple_years=False, year=2018):\n",
    "    \n",
    "    people_per_accidents.hist(bins=200, figsize=(20,10))\n",
    "    \n",
    "    plt.ylabel('Number of people per accidents')\n",
    "    plt.xlabel('Frequency')\n",
    "    \n",
    "    if multiple_years:\n",
    "        plt.title('Histogram of the number of people per accidents between 2008 and 2018')\n",
    "    else:\n",
    "        plt.title('Histogram of the number of people per accidents in {}'.format(year))\n",
    "    \n",
    "    plt.show()"
   ]
  },
  {
   "cell_type": "code",
   "execution_count": 36,
   "metadata": {},
   "outputs": [
    {
     "data": {
      "image/png": "[encoded data removed]",
      "text/plain": [
       "<Figure size 1440x720 with 1 Axes>"
      ]
     },
     "metadata": {
      "needs_background": "light"
     },
     "output_type": "display_data"
    }
   ],
   "source": [
    "plot_number_people_per_accidents(df_people_per_accidents_2018, year=2018)"
   ]
  },
  {
   "cell_type": "code",
   "execution_count": 37,
   "metadata": {},
   "outputs": [],
   "source": [
    "def get_number_people_per_accidents_all_years(min_year, max_year):\n",
    "    \"\"\"\n",
    "    Function that get the number of people involved per accidents \n",
    "    between min_year and max_year.\n",
    "    \n",
    "    Parameters\n",
    "    ----------\n",
    "    min_year : int\n",
    "        First year to consider\n",
    "    max_year : int\n",
    "        Last year to consider\n",
    "    \n",
    "    Returns\n",
    "    -------\n",
    "    DataFrame\n",
    "        DataFrame containing the result\n",
    "    \n",
    "    \"\"\"\n",
    "    data_year = YearLoader(min_year)\n",
    "    df_people_per_accidents_all = get_number_people_per_accidents(data_year)\n",
    "    \n",
    "    for year in range(min_year+1, max_year+1):\n",
    "        data_year = YearLoader(year)\n",
    "        df_people_per_accidents_year = get_number_people_per_accidents(data_year)\n",
    "        pd.concat([df_people_per_accidents_all, df_people_per_accidents_year], ignore_index=True)\n",
    "    \n",
    "    return df_people_per_accidents_all"
   ]
  },
  {
   "cell_type": "code",
   "execution_count": 38,
   "metadata": {},
   "outputs": [],
   "source": [
    "df_people_per_accidents_all = get_number_people_per_accidents_all_years(2008, 2018)"
   ]
  },
  {
   "cell_type": "code",
   "execution_count": 39,
   "metadata": {},
   "outputs": [
    {
     "data": {
      "text/plain": [
       "count    76767.000000\n",
       "mean         2.226999\n",
       "std          1.182808\n",
       "min          1.000000\n",
       "25%          2.000000\n",
       "50%          2.000000\n",
       "75%          2.000000\n",
       "max         58.000000\n",
       "Name: Num_Acc, dtype: float64"
      ]
     },
     "execution_count": 39,
     "metadata": {},
     "output_type": "execute_result"
    }
   ],
   "source": [
    "df_people_per_accidents_all.describe()"
   ]
  },
  {
   "cell_type": "code",
   "execution_count": 40,
   "metadata": {},
   "outputs": [
    {
     "data": {
      "image/png": "[encoded data removed]",
      "text/plain": [
       "<Figure size 1440x720 with 1 Axes>"
      ]
     },
     "metadata": {
      "needs_background": "light"
     },
     "output_type": "display_data"
    }
   ],
   "source": [
    " plot_number_people_per_accidents(df_people_per_accidents_all, multiple_years=True)"
   ]
  },
  {
   "cell_type": "code",
   "execution_count": null,
   "metadata": {},
   "outputs": [],
   "source": []
  }
 ],
 "metadata": {
  "kernelspec": {
   "display_name": "Python 3",
   "language": "python",
   "name": "python3"
  },
  "language_info": {
   "codemirror_mode": {
    "name": "ipython",
    "version": 3
   },
   "file_extension": ".py",
   "mimetype": "text/x-python",
   "name": "python",
   "nbconvert_exporter": "python",
   "pygments_lexer": "ipython3",
   "version": "3.7.3"
  }
 },
 "nbformat": 4,
 "nbformat_minor": 4
}

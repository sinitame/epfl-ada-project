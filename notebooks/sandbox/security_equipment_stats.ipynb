{
 "cells": [
  {
   "cell_type": "markdown",
   "metadata": {},
   "source": [
    "# Imports"
   ]
  },
  {
   "cell_type": "code",
   "execution_count": 1,
   "metadata": {},
   "outputs": [],
   "source": [
    "import sys\n",
    "import warnings\n",
    "\n",
    "sys.path.append('../../src')\n",
    "warnings.filterwarnings('ignore')\n",
    "\n",
    "from data_loading import YearLoader\n",
    "import pandas as pd\n",
    "from stats_helpers import *"
   ]
  },
  {
   "cell_type": "markdown",
   "metadata": {},
   "source": [
    "# Functions"
   ]
  },
  {
   "cell_type": "code",
   "execution_count": 2,
   "metadata": {},
   "outputs": [],
   "source": [
    "def gravity_code_to_string(grav_code):\n",
    "    \"\"\"\n",
    "    Function that convert an accident code of gravity into its string value\n",
    "    \n",
    "    Parameters\n",
    "    ----------\n",
    "    atm_code : int\n",
    "        The code of the gravity\n",
    "    \n",
    "    Returns\n",
    "    -------\n",
    "    String\n",
    "        The string value\n",
    "    \"\"\"\n",
    "    \n",
    "    dict_gravity_code = {\n",
    "        1 : \"Unharmed\",\n",
    "        2 : \"Killed\",\n",
    "        3 : \"Injured and hospitalized\",\n",
    "        4 : \"Slightly injured\",\n",
    "    }\n",
    "    \n",
    "    return dict_gravity_code[grav_code]"
   ]
  },
  {
   "cell_type": "code",
   "execution_count": 3,
   "metadata": {},
   "outputs": [],
   "source": [
    "def get_gravity(secu_codes, year):\n",
    "    \"\"\"\n",
    "    Function that returns a Dataframe containing for\n",
    "    the given security items, the gravity and the number \n",
    "    of accidents\n",
    "    \n",
    "    Parameters\n",
    "    ----------\n",
    "    secu_codes : int\n",
    "        The code(s) of the security equipment\n",
    "    year : int\n",
    "        The year\n",
    "    \n",
    "    Returns\n",
    "    -------\n",
    "    DataFrame\n",
    "        The dataframe containing the number of accidents\n",
    "    \"\"\"\n",
    "    \n",
    "    # Load dataset\n",
    "    loader = YearLoader(year)\n",
    "    passengers = loader.get_dataframe(\"passengers\")\n",
    "    passengers = passengers.dropna(subset=['secu'])\n",
    "    passengers['secu'] = passengers['secu'].astype(int)\n",
    "    \n",
    "    # Count the accidents\n",
    "    pass_given_secu = passengers[passengers['secu'].apply(lambda x : x in secu_codes)]\n",
    "    df_grav = pass_given_secu[\"grav\"].value_counts().sort_index().rename_axis('grav').reset_index(name='counts')\n",
    "    df_grav[\"grav\"] = df_grav[\"grav\"].apply(lambda x : gravity_code_to_string(x))\n",
    "    \n",
    "    # Adding percentage\n",
    "    count = df_grav[\"counts\"].sum()\n",
    "    df_grav[\"perc\"] = df_grav[\"counts\"] / count * 100\n",
    "    \n",
    "    return df_grav.set_index('grav')\n",
    "    \n",
    "def get_gravity_over_years(secu_codes, years):\n",
    "    df_full_grav = get_gravity(secu_codes, years[0])\n",
    "    \n",
    "    for year in years[1:]:\n",
    "        df_grav_year = get_gravity(secu_codes, year)\n",
    "        df_full_grav += df_grav_year\n",
    "        \n",
    "    # Fixing percentage\n",
    "    count = df_full_grav[\"counts\"].sum()\n",
    "    df_full_grav[\"perc\"] = df_full_grav[\"counts\"]/count * 100\n",
    "        \n",
    "    return df_full_grav"
   ]
  },
  {
   "cell_type": "markdown",
   "metadata": {},
   "source": [
    "# Gravity given security equipment"
   ]
  },
  {
   "cell_type": "markdown",
   "metadata": {},
   "source": [
    "## Gravity with seatbelt"
   ]
  },
  {
   "cell_type": "code",
   "execution_count": 4,
   "metadata": {},
   "outputs": [],
   "source": [
    "codes_seatbelt = [11]           # Codes if seatbelt attached\n",
    "years = list(range(2008, 2019)) # All years"
   ]
  },
  {
   "cell_type": "code",
   "execution_count": 5,
   "metadata": {},
   "outputs": [
    {
     "data": {
      "text/html": [
       "<div>\n",
       "<style scoped>\n",
       "    .dataframe tbody tr th:only-of-type {\n",
       "        vertical-align: middle;\n",
       "    }\n",
       "\n",
       "    .dataframe tbody tr th {\n",
       "        vertical-align: top;\n",
       "    }\n",
       "\n",
       "    .dataframe thead th {\n",
       "        text-align: right;\n",
       "    }\n",
       "</style>\n",
       "<table border=\"1\" class=\"dataframe\">\n",
       "  <thead>\n",
       "    <tr style=\"text-align: right;\">\n",
       "      <th></th>\n",
       "      <th>counts</th>\n",
       "      <th>perc</th>\n",
       "    </tr>\n",
       "    <tr>\n",
       "      <th>grav</th>\n",
       "      <th></th>\n",
       "      <th></th>\n",
       "    </tr>\n",
       "  </thead>\n",
       "  <tbody>\n",
       "    <tr>\n",
       "      <td>Unharmed</td>\n",
       "      <td>506165</td>\n",
       "      <td>57.268007</td>\n",
       "    </tr>\n",
       "    <tr>\n",
       "      <td>Killed</td>\n",
       "      <td>15951</td>\n",
       "      <td>1.804712</td>\n",
       "    </tr>\n",
       "    <tr>\n",
       "      <td>Injured and hospitalized</td>\n",
       "      <td>119810</td>\n",
       "      <td>13.555422</td>\n",
       "    </tr>\n",
       "    <tr>\n",
       "      <td>Slightly injured</td>\n",
       "      <td>241927</td>\n",
       "      <td>27.371859</td>\n",
       "    </tr>\n",
       "  </tbody>\n",
       "</table>\n",
       "</div>"
      ],
      "text/plain": [
       "                          counts       perc\n",
       "grav                                       \n",
       "Unharmed                  506165  57.268007\n",
       "Killed                     15951   1.804712\n",
       "Injured and hospitalized  119810  13.555422\n",
       "Slightly injured          241927  27.371859"
      ]
     },
     "execution_count": 5,
     "metadata": {},
     "output_type": "execute_result"
    }
   ],
   "source": [
    "df_grav = get_gravity_over_years(codes_seatbelt, years)\n",
    "df_grav.head()"
   ]
  },
  {
   "cell_type": "markdown",
   "metadata": {},
   "source": [
    "## Gravity without seatbelt"
   ]
  },
  {
   "cell_type": "code",
   "execution_count": 6,
   "metadata": {},
   "outputs": [],
   "source": [
    "codes_no_seatbelt = [12]        # Codes if no seatbelt\n",
    "years = list(range(2008, 2019)) # All years"
   ]
  },
  {
   "cell_type": "code",
   "execution_count": 7,
   "metadata": {},
   "outputs": [],
   "source": [
    "df_grav = get_gravity_over_years(codes_no_seatbelt, years)\n",
    "count   = df_grav[\"counts\"].sum()\n",
    "df_grav[\"perc\"] = df_grav[\"counts\"] / count * 100"
   ]
  },
  {
   "cell_type": "code",
   "execution_count": 8,
   "metadata": {},
   "outputs": [
    {
     "data": {
      "text/html": [
       "<div>\n",
       "<style scoped>\n",
       "    .dataframe tbody tr th:only-of-type {\n",
       "        vertical-align: middle;\n",
       "    }\n",
       "\n",
       "    .dataframe tbody tr th {\n",
       "        vertical-align: top;\n",
       "    }\n",
       "\n",
       "    .dataframe thead th {\n",
       "        text-align: right;\n",
       "    }\n",
       "</style>\n",
       "<table border=\"1\" class=\"dataframe\">\n",
       "  <thead>\n",
       "    <tr style=\"text-align: right;\">\n",
       "      <th></th>\n",
       "      <th>counts</th>\n",
       "      <th>perc</th>\n",
       "    </tr>\n",
       "    <tr>\n",
       "      <th>grav</th>\n",
       "      <th></th>\n",
       "      <th></th>\n",
       "    </tr>\n",
       "  </thead>\n",
       "  <tbody>\n",
       "    <tr>\n",
       "      <td>Unharmed</td>\n",
       "      <td>5828</td>\n",
       "      <td>24.080654</td>\n",
       "    </tr>\n",
       "    <tr>\n",
       "      <td>Killed</td>\n",
       "      <td>4534</td>\n",
       "      <td>18.733989</td>\n",
       "    </tr>\n",
       "    <tr>\n",
       "      <td>Injured and hospitalized</td>\n",
       "      <td>8324</td>\n",
       "      <td>34.393852</td>\n",
       "    </tr>\n",
       "    <tr>\n",
       "      <td>Slightly injured</td>\n",
       "      <td>5516</td>\n",
       "      <td>22.791505</td>\n",
       "    </tr>\n",
       "  </tbody>\n",
       "</table>\n",
       "</div>"
      ],
      "text/plain": [
       "                          counts       perc\n",
       "grav                                       \n",
       "Unharmed                    5828  24.080654\n",
       "Killed                      4534  18.733989\n",
       "Injured and hospitalized    8324  34.393852\n",
       "Slightly injured            5516  22.791505"
      ]
     },
     "execution_count": 8,
     "metadata": {},
     "output_type": "execute_result"
    }
   ],
   "source": [
    "df_grav.head()"
   ]
  },
  {
   "cell_type": "markdown",
   "metadata": {},
   "source": [
    "# Seatbelt Statistics"
   ]
  },
  {
   "cell_type": "code",
   "execution_count": 9,
   "metadata": {},
   "outputs": [
    {
     "data": {
      "text/html": [
       "<div>\n",
       "<style scoped>\n",
       "    .dataframe tbody tr th:only-of-type {\n",
       "        vertical-align: middle;\n",
       "    }\n",
       "\n",
       "    .dataframe tbody tr th {\n",
       "        vertical-align: top;\n",
       "    }\n",
       "\n",
       "    .dataframe thead th {\n",
       "        text-align: right;\n",
       "    }\n",
       "</style>\n",
       "<table border=\"1\" class=\"dataframe\">\n",
       "  <thead>\n",
       "    <tr style=\"text-align: right;\">\n",
       "      <th></th>\n",
       "      <th>grav</th>\n",
       "      <th>secu</th>\n",
       "    </tr>\n",
       "  </thead>\n",
       "  <tbody>\n",
       "    <tr>\n",
       "      <td>0</td>\n",
       "      <td>1</td>\n",
       "      <td>11</td>\n",
       "    </tr>\n",
       "    <tr>\n",
       "      <td>2</td>\n",
       "      <td>3</td>\n",
       "      <td>11</td>\n",
       "    </tr>\n",
       "    <tr>\n",
       "      <td>3</td>\n",
       "      <td>1</td>\n",
       "      <td>11</td>\n",
       "    </tr>\n",
       "    <tr>\n",
       "      <td>7</td>\n",
       "      <td>1</td>\n",
       "      <td>11</td>\n",
       "    </tr>\n",
       "    <tr>\n",
       "      <td>9</td>\n",
       "      <td>1</td>\n",
       "      <td>11</td>\n",
       "    </tr>\n",
       "  </tbody>\n",
       "</table>\n",
       "</div>"
      ],
      "text/plain": [
       "   grav  secu\n",
       "0     1    11\n",
       "2     3    11\n",
       "3     1    11\n",
       "7     1    11\n",
       "9     1    11"
      ]
     },
     "execution_count": 9,
     "metadata": {},
     "output_type": "execute_result"
    }
   ],
   "source": [
    "data = stats_df_security_gravity([11,12],years)\n",
    "\n",
    "data.head()"
   ]
  },
  {
   "cell_type": "code",
   "execution_count": 10,
   "metadata": {},
   "outputs": [
    {
     "data": {
      "text/plain": [
       "Ttest_indResult(statistic=2058.6457707572895, pvalue=0.0)"
      ]
     },
     "execution_count": 10,
     "metadata": {},
     "output_type": "execute_result"
    }
   ],
   "source": [
    "##Test for p-value to see if it matches the one calculated with ChiSquare\n",
    "\n",
    "from scipy.stats import ttest_ind\n",
    "import scipy.stats as ss\n",
    "\n",
    "ss.ttest_ind(a=data['secu'],b=data['grav'],equal_var=False)"
   ]
  },
  {
   "cell_type": "code",
   "execution_count": 11,
   "metadata": {},
   "outputs": [
    {
     "name": "stdout",
     "output_type": "stream",
     "text": [
      "contingency_table :-\n",
      " grav      1     2      3      4\n",
      "secu                           \n",
      "11    52995  1686  13075  24615\n",
      "12      721   543   1054    638\n",
      "Observed Values :-\n",
      " [[52995  1686 13075 24615]\n",
      " [  721   543  1054   638]]\n",
      "Expected Values :-\n",
      " [[52050.31770642  2159.88082075 13690.87308947 24469.92838335]\n",
      " [ 1665.68229358    69.11917925   438.12691053   783.07161665]]\n",
      "Degree of Freedom:- 1\n",
      "chi-square statistic:- 3905.811786814595\n",
      "critical_value: 3.841458820694124\n",
      "p-value: 0.0\n",
      "Significance level:  0.05\n",
      "Degree of Freedom:  1\n",
      "chi-square statistic: 3905.811786814595\n",
      "critical_value: 3.841458820694124\n",
      "p-value: 0.0\n",
      "Chi-square test result : Reject H0, There is a relationship between 2 categorical variables\n",
      "Reject H0 with 95% level of confidence.\n"
     ]
    }
   ],
   "source": [
    "Chi_square_gravity_vs_seatbelt = ChiSquare(data['secu'],data['grav'])"
   ]
  },
  {
   "cell_type": "code",
   "execution_count": 12,
   "metadata": {},
   "outputs": [
    {
     "data": {
      "image/png": "[encoded data removed]",
      "text/plain": [
       "<Figure size 720x360 with 1 Axes>"
      ]
     },
     "metadata": {},
     "output_type": "display_data"
    },
    {
     "data": {
      "image/png": "[encoded data removed]",
      "text/plain": [
       "<Figure size 720x360 with 1 Axes>"
      ]
     },
     "metadata": {},
     "output_type": "display_data"
    }
   ],
   "source": [
    "plot_seatbelt_vs_gravity_contingency()"
   ]
  },
  {
   "cell_type": "markdown",
   "metadata": {},
   "source": [
    "## Gravity with helmet"
   ]
  },
  {
   "cell_type": "code",
   "execution_count": 13,
   "metadata": {},
   "outputs": [],
   "source": [
    "codes_helmet = [21]             # Codes if helmet\n",
    "years = list(range(2008, 2019)) # All years"
   ]
  },
  {
   "cell_type": "code",
   "execution_count": 14,
   "metadata": {},
   "outputs": [],
   "source": [
    "df_grav = get_gravity_over_years(codes_helmet, years)\n",
    "count   = df_grav[\"counts\"].sum()\n",
    "df_grav[\"perc\"] = df_grav[\"counts\"] / count * 100"
   ]
  },
  {
   "cell_type": "code",
   "execution_count": 15,
   "metadata": {},
   "outputs": [
    {
     "data": {
      "text/html": [
       "<div>\n",
       "<style scoped>\n",
       "    .dataframe tbody tr th:only-of-type {\n",
       "        vertical-align: middle;\n",
       "    }\n",
       "\n",
       "    .dataframe tbody tr th {\n",
       "        vertical-align: top;\n",
       "    }\n",
       "\n",
       "    .dataframe thead th {\n",
       "        text-align: right;\n",
       "    }\n",
       "</style>\n",
       "<table border=\"1\" class=\"dataframe\">\n",
       "  <thead>\n",
       "    <tr style=\"text-align: right;\">\n",
       "      <th></th>\n",
       "      <th>counts</th>\n",
       "      <th>perc</th>\n",
       "    </tr>\n",
       "    <tr>\n",
       "      <th>grav</th>\n",
       "      <th></th>\n",
       "      <th></th>\n",
       "    </tr>\n",
       "  </thead>\n",
       "  <tbody>\n",
       "    <tr>\n",
       "      <td>Unharmed</td>\n",
       "      <td>25085</td>\n",
       "      <td>8.709888</td>\n",
       "    </tr>\n",
       "    <tr>\n",
       "      <td>Killed</td>\n",
       "      <td>9777</td>\n",
       "      <td>3.394721</td>\n",
       "    </tr>\n",
       "    <tr>\n",
       "      <td>Injured and hospitalized</td>\n",
       "      <td>100725</td>\n",
       "      <td>34.973230</td>\n",
       "    </tr>\n",
       "    <tr>\n",
       "      <td>Slightly injured</td>\n",
       "      <td>152419</td>\n",
       "      <td>52.922161</td>\n",
       "    </tr>\n",
       "  </tbody>\n",
       "</table>\n",
       "</div>"
      ],
      "text/plain": [
       "                          counts       perc\n",
       "grav                                       \n",
       "Unharmed                   25085   8.709888\n",
       "Killed                      9777   3.394721\n",
       "Injured and hospitalized  100725  34.973230\n",
       "Slightly injured          152419  52.922161"
      ]
     },
     "execution_count": 15,
     "metadata": {},
     "output_type": "execute_result"
    }
   ],
   "source": [
    "df_grav.head()"
   ]
  },
  {
   "cell_type": "markdown",
   "metadata": {},
   "source": [
    "## Gravity without helmet"
   ]
  },
  {
   "cell_type": "code",
   "execution_count": 16,
   "metadata": {},
   "outputs": [],
   "source": [
    "codes_no_helmet = [22]          # Codes if no helmet\n",
    "years = list(range(2008, 2019)) # All years"
   ]
  },
  {
   "cell_type": "code",
   "execution_count": 17,
   "metadata": {},
   "outputs": [],
   "source": [
    "df_grav = get_gravity_over_years(codes_no_helmet, years)\n",
    "count   = df_grav[\"counts\"].sum()\n",
    "df_grav[\"perc\"] = df_grav[\"counts\"] / count * 100"
   ]
  },
  {
   "cell_type": "code",
   "execution_count": 18,
   "metadata": {},
   "outputs": [
    {
     "data": {
      "text/html": [
       "<div>\n",
       "<style scoped>\n",
       "    .dataframe tbody tr th:only-of-type {\n",
       "        vertical-align: middle;\n",
       "    }\n",
       "\n",
       "    .dataframe tbody tr th {\n",
       "        vertical-align: top;\n",
       "    }\n",
       "\n",
       "    .dataframe thead th {\n",
       "        text-align: right;\n",
       "    }\n",
       "</style>\n",
       "<table border=\"1\" class=\"dataframe\">\n",
       "  <thead>\n",
       "    <tr style=\"text-align: right;\">\n",
       "      <th></th>\n",
       "      <th>counts</th>\n",
       "      <th>perc</th>\n",
       "    </tr>\n",
       "    <tr>\n",
       "      <th>grav</th>\n",
       "      <th></th>\n",
       "      <th></th>\n",
       "    </tr>\n",
       "  </thead>\n",
       "  <tbody>\n",
       "    <tr>\n",
       "      <td>Unharmed</td>\n",
       "      <td>1001</td>\n",
       "      <td>5.998322</td>\n",
       "    </tr>\n",
       "    <tr>\n",
       "      <td>Killed</td>\n",
       "      <td>1203</td>\n",
       "      <td>7.208773</td>\n",
       "    </tr>\n",
       "    <tr>\n",
       "      <td>Injured and hospitalized</td>\n",
       "      <td>7777</td>\n",
       "      <td>46.602349</td>\n",
       "    </tr>\n",
       "    <tr>\n",
       "      <td>Slightly injured</td>\n",
       "      <td>6707</td>\n",
       "      <td>40.190556</td>\n",
       "    </tr>\n",
       "  </tbody>\n",
       "</table>\n",
       "</div>"
      ],
      "text/plain": [
       "                          counts       perc\n",
       "grav                                       \n",
       "Unharmed                    1001   5.998322\n",
       "Killed                      1203   7.208773\n",
       "Injured and hospitalized    7777  46.602349\n",
       "Slightly injured            6707  40.190556"
      ]
     },
     "execution_count": 18,
     "metadata": {},
     "output_type": "execute_result"
    }
   ],
   "source": [
    "df_grav.head()"
   ]
  },
  {
   "cell_type": "markdown",
   "metadata": {},
   "source": [
    "## Gravity with reflective device"
   ]
  },
  {
   "cell_type": "code",
   "execution_count": 19,
   "metadata": {},
   "outputs": [],
   "source": [
    "codes_refl_dev = [41]             # Codes if helmet\n",
    "years = list(range(2008, 2019)) # All years"
   ]
  },
  {
   "cell_type": "code",
   "execution_count": 20,
   "metadata": {},
   "outputs": [],
   "source": [
    "df_grav = get_gravity_over_years(codes_refl_dev, years)\n",
    "count   = df_grav[\"counts\"].sum()\n",
    "df_grav[\"perc\"] = df_grav[\"counts\"] / count * 100\n"
   ]
  },
  {
   "cell_type": "code",
   "execution_count": 21,
   "metadata": {},
   "outputs": [
    {
     "data": {
      "text/html": [
       "<div>\n",
       "<style scoped>\n",
       "    .dataframe tbody tr th:only-of-type {\n",
       "        vertical-align: middle;\n",
       "    }\n",
       "\n",
       "    .dataframe tbody tr th {\n",
       "        vertical-align: top;\n",
       "    }\n",
       "\n",
       "    .dataframe thead th {\n",
       "        text-align: right;\n",
       "    }\n",
       "</style>\n",
       "<table border=\"1\" class=\"dataframe\">\n",
       "  <thead>\n",
       "    <tr style=\"text-align: right;\">\n",
       "      <th></th>\n",
       "      <th>counts</th>\n",
       "      <th>perc</th>\n",
       "    </tr>\n",
       "    <tr>\n",
       "      <th>grav</th>\n",
       "      <th></th>\n",
       "      <th></th>\n",
       "    </tr>\n",
       "  </thead>\n",
       "  <tbody>\n",
       "    <tr>\n",
       "      <td>Unharmed</td>\n",
       "      <td>334</td>\n",
       "      <td>16.065416</td>\n",
       "    </tr>\n",
       "    <tr>\n",
       "      <td>Killed</td>\n",
       "      <td>112</td>\n",
       "      <td>5.387205</td>\n",
       "    </tr>\n",
       "    <tr>\n",
       "      <td>Injured and hospitalized</td>\n",
       "      <td>597</td>\n",
       "      <td>28.715729</td>\n",
       "    </tr>\n",
       "    <tr>\n",
       "      <td>Slightly injured</td>\n",
       "      <td>1036</td>\n",
       "      <td>49.831650</td>\n",
       "    </tr>\n",
       "  </tbody>\n",
       "</table>\n",
       "</div>"
      ],
      "text/plain": [
       "                          counts       perc\n",
       "grav                                       \n",
       "Unharmed                     334  16.065416\n",
       "Killed                       112   5.387205\n",
       "Injured and hospitalized     597  28.715729\n",
       "Slightly injured            1036  49.831650"
      ]
     },
     "execution_count": 21,
     "metadata": {},
     "output_type": "execute_result"
    }
   ],
   "source": [
    "df_grav.head()"
   ]
  },
  {
   "cell_type": "markdown",
   "metadata": {},
   "source": [
    "## Gravity without reflective device"
   ]
  },
  {
   "cell_type": "code",
   "execution_count": 22,
   "metadata": {},
   "outputs": [],
   "source": [
    "codes_no_refl_dev = [42]          # Codes if no helmet\n",
    "years = list(range(2008, 2019)) # All years"
   ]
  },
  {
   "cell_type": "code",
   "execution_count": 23,
   "metadata": {},
   "outputs": [],
   "source": [
    "df_grav = get_gravity_over_years(codes_no_refl_dev, years)\n",
    "count   = df_grav[\"counts\"].sum()\n",
    "df_grav[\"perc\"] = df_grav[\"counts\"] / count * 100"
   ]
  },
  {
   "cell_type": "code",
   "execution_count": 24,
   "metadata": {},
   "outputs": [
    {
     "data": {
      "text/html": [
       "<div>\n",
       "<style scoped>\n",
       "    .dataframe tbody tr th:only-of-type {\n",
       "        vertical-align: middle;\n",
       "    }\n",
       "\n",
       "    .dataframe tbody tr th {\n",
       "        vertical-align: top;\n",
       "    }\n",
       "\n",
       "    .dataframe thead th {\n",
       "        text-align: right;\n",
       "    }\n",
       "</style>\n",
       "<table border=\"1\" class=\"dataframe\">\n",
       "  <thead>\n",
       "    <tr style=\"text-align: right;\">\n",
       "      <th></th>\n",
       "      <th>counts</th>\n",
       "      <th>perc</th>\n",
       "    </tr>\n",
       "    <tr>\n",
       "      <th>grav</th>\n",
       "      <th></th>\n",
       "      <th></th>\n",
       "    </tr>\n",
       "  </thead>\n",
       "  <tbody>\n",
       "    <tr>\n",
       "      <td>Unharmed</td>\n",
       "      <td>75</td>\n",
       "      <td>4.564820</td>\n",
       "    </tr>\n",
       "    <tr>\n",
       "      <td>Killed</td>\n",
       "      <td>191</td>\n",
       "      <td>11.625076</td>\n",
       "    </tr>\n",
       "    <tr>\n",
       "      <td>Injured and hospitalized</td>\n",
       "      <td>740</td>\n",
       "      <td>45.039562</td>\n",
       "    </tr>\n",
       "    <tr>\n",
       "      <td>Slightly injured</td>\n",
       "      <td>637</td>\n",
       "      <td>38.770542</td>\n",
       "    </tr>\n",
       "  </tbody>\n",
       "</table>\n",
       "</div>"
      ],
      "text/plain": [
       "                          counts       perc\n",
       "grav                                       \n",
       "Unharmed                      75   4.564820\n",
       "Killed                       191  11.625076\n",
       "Injured and hospitalized     740  45.039562\n",
       "Slightly injured             637  38.770542"
      ]
     },
     "execution_count": 24,
     "metadata": {},
     "output_type": "execute_result"
    }
   ],
   "source": [
    "df_grav.head()"
   ]
  }
 ],
 "metadata": {
  "kernelspec": {
   "display_name": "Python [conda env:ada] *",
   "language": "python",
   "name": "conda-env-ada-py"
  },
  "language_info": {
   "codemirror_mode": {
    "name": "ipython",
    "version": 3
   },
   "file_extension": ".py",
   "mimetype": "text/x-python",
   "name": "python",
   "nbconvert_exporter": "python",
   "pygments_lexer": "ipython3",
   "version": "3.7.4"
  }
 },
 "nbformat": 4,
 "nbformat_minor": 4
}
